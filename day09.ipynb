{
 "cells": [
  {
   "cell_type": "markdown",
   "id": "e4d0c830",
   "metadata": {},
   "source": [
    "# 次回の範囲\n",
    "\n",
    "#### 基本\n",
    "- 無\n",
    "\n",
    "#### 推奨\n",
    "- PDFの6章全てを読む\n",
    "\n",
    "#### 挑戦\n",
    "- PDFの6章を実際に動かす\n",
    "- PDFの7章を読む"
   ]
  },
  {
   "cell_type": "markdown",
   "id": "1ae5fa72",
   "metadata": {},
   "source": [
    "# 今回の範囲\n",
    "\n",
    "#### 基本\n",
    "- 5.1の交差検証を読む\n",
    "- 5.3.2.3の混同行列を読む\n",
    "\n",
    "#### 推奨\n",
    "- PDFの5章全てを読む\n",
    "\n",
    "#### 挑戦\n",
    "- PDFの5章を実際に動かす"
   ]
  },
  {
   "cell_type": "markdown",
   "id": "be875ff7",
   "metadata": {},
   "source": [
    "# 質問"
   ]
  },
  {
   "cell_type": "markdown",
   "id": "36fa60aa",
   "metadata": {},
   "source": [
    "# 問題"
   ]
  },
  {
   "cell_type": "markdown",
   "id": "547fdb7e",
   "metadata": {},
   "source": [
    "### 問題1\n",
    "データセットをk個のサブセット(フォールド)に分割し、各フォールドを一度だけテストデータとして使用し、残りのフォールドを訓練データとして使用する。  \n",
    "この手法の名称はなにでしょう？"
   ]
  },
  {
   "cell_type": "markdown",
   "id": "5c692c0a",
   "metadata": {},
   "source": [
    "### 問題2\n",
    "グリッドサーチの正しい説明はどれでしょう？\n",
    "- データセットを自動的に前処理し、特徴量の重要度を計算するために行う。\n",
    "- 機械学習モデルのハイパーパラメータの組み合わせを系統的に探索し、最適なパラメータを見つけるために行う。\n",
    "- モデルの予測結果を直接改善するために行うもの\n",
    "- モデルの性能を評価するために複数の評価指標を自動的に生成する"
   ]
  },
  {
   "cell_type": "markdown",
   "id": "933b5ce3",
   "metadata": {},
   "source": [
    "### 問題3\n",
    "後輩が機械学習をやってきたとします．  \n",
    "間違っている箇所を指摘してあげてください．  \n",
    "\n",
    "クラスAのデータ80とクラスBのデータ20を収集しました．  \n",
    "ランダムフォレストを学習器に使い100個のデータを学習，10個のデータをテストデータとしました．  \n",
    "精度が95%で結構良かったです！！  \n",
    "これからは特徴量を正規化して，同じ学習してみようと思います．"
   ]
  },
  {
   "cell_type": "code",
   "execution_count": null,
   "id": "8bc52048",
   "metadata": {},
   "outputs": [],
   "source": []
  }
 ],
 "metadata": {
  "kernelspec": {
   "display_name": "Python 3",
   "language": "python",
   "name": "python3"
  },
  "language_info": {
   "codemirror_mode": {
    "name": "ipython",
    "version": 3
   },
   "file_extension": ".py",
   "mimetype": "text/x-python",
   "name": "python",
   "nbconvert_exporter": "python",
   "pygments_lexer": "ipython3",
   "version": "3.8.8"
  }
 },
 "nbformat": 4,
 "nbformat_minor": 5
}
