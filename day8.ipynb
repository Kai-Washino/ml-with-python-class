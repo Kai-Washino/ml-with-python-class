{
 "cells": [
  {
   "cell_type": "markdown",
   "id": "46604977",
   "metadata": {},
   "source": [
    "# 次回の範囲\n",
    "\n",
    "#### 基本\n",
    "- 5.1の交差検証を読む\n",
    "\n",
    "#### 推奨\n",
    "- PDFの5章全てを読む\n",
    "\n",
    "#### 挑戦\n",
    "- PDFの5章を実際に動かす"
   ]
  },
  {
   "cell_type": "markdown",
   "id": "1e4c64ed",
   "metadata": {},
   "source": [
    "# 今回の範囲\n",
    "\n",
    "#### 基本\n",
    "- 無\n",
    "\n",
    "#### 推奨\n",
    "- PDFの4章を読む\n",
    "\n",
    "#### 挑戦\n",
    "- PDFの4章を実際に動かす"
   ]
  },
  {
   "cell_type": "markdown",
   "id": "a38bd1c6",
   "metadata": {},
   "source": [
    "# 質問"
   ]
  },
  {
   "cell_type": "markdown",
   "id": "ebc2d893",
   "metadata": {},
   "source": [
    "# 解説\n",
    "### カテゴリ変数\n",
    "連続値でないデータで，そのデータのカテゴリを示す変数をカテゴリ変数という．  \n",
    "例えば，性別はカテゴリ変数であり，年齢はカテゴリ変数ではない．  \n",
    "\n",
    "カテゴリ変数を連続値と同様に扱うのはおかしい．  \n",
    "例えば，男性を1，女性を2とした場合に男性の2倍が女性ではないので．  \n",
    "\n",
    "カテゴリ変数をうまく表現するためによく用いられる方法がone-hot-encodingである．  \n",
    "これは，男性と女性という特徴量を追加し，男性の場合は男性に1女性に0，女性の場合は女性に1男性に0といった具合で表現する．\n",
    "\n",
    "### ビニング\n",
    "連続値をカテゴリ変数っぽくあつかうビニングという手法もある．  \n",
    "0から1，1から2,・・・といった具合にビンを作って，one-hot-encodingする手法  \n",
    "特徴量が増えるので，線形モデルでより柔軟な表現が可能になる．\n",
    "\n",
    "### 特徴量の多項式\n",
    "多項式は連続値の特徴量を2乗3乗することで，特徴量を増やす手法．\n",
    "\n",
    "### 非線形変換\n",
    "特徴量に対して非線形の変換をする．  \n",
    "例えばlogやexpやsinをとる．  \n",
    "特徴量がガウス分布じゃない場合に，非線形変換をしてガウス分布にすることで結果が向上することがある．\n",
    "\n",
    "### 自動特徴量選択\n",
    "特徴量を自動で選択する方法．  \n",
    "特徴量を減らして過学習を防ぐことを目的に行う．  \n",
    "- 単変量統計（特徴量とターゲット変数にANOVA）\n",
    "- モデルベース特徴量選択（特徴量を決めるのに機械学習を用いる）\n",
    "\n",
    "機械学習は上記を駆使しながらも，人力でデータの特徴を考えることが必須．"
   ]
  },
  {
   "cell_type": "markdown",
   "id": "6e3af5a1",
   "metadata": {},
   "source": [
    "# 問題\n",
    "### 問題1\n",
    "下記データをone-hot-encodeingしてください．"
   ]
  },
  {
   "cell_type": "code",
   "execution_count": 2,
   "id": "d3f3d793",
   "metadata": {},
   "outputs": [
    {
     "name": "stdout",
     "output_type": "stream",
     "text": [
      "   性別  体重   身長\n",
      "0  男性  70  180\n",
      "1  女性  55  165\n",
      "2  女性  60  170\n",
      "3  男性  80  190\n",
      "4  女性  65  175\n",
      "5  女性  50  160\n",
      "6  男性  90  185\n",
      "7  男性  85  178\n",
      "8  女性  45  158\n",
      "9  男性  75  182\n"
     ]
    }
   ],
   "source": [
    "import pandas as pd\n",
    "\n",
    "data = {\n",
    "    '性別': ['男性', '女性', '女性', '男性', '女性', '女性', '男性', '男性', '女性', '男性'],\n",
    "    '体重': [70, 55, 60, 80, 65, 50, 90, 85, 45, 75],\n",
    "    '身長': [180, 165, 170, 190, 175, 160, 185, 178, 158, 182]\n",
    "}\n",
    "df = pd.DataFrame(data)\n",
    "print(df)"
   ]
  },
  {
   "cell_type": "markdown",
   "id": "5308b15e",
   "metadata": {},
   "source": [
    "### 問題2\n",
    "上記データの身長と体重をビニングしてください"
   ]
  },
  {
   "cell_type": "markdown",
   "id": "0ef9b374",
   "metadata": {},
   "source": [
    "### 問題3\n",
    "ポワソン分布のデータをlogをとって非線形変換し，ガウス分布に従うデータにしてください"
   ]
  },
  {
   "cell_type": "code",
   "execution_count": 9,
   "id": "54e70b65",
   "metadata": {},
   "outputs": [
    {
     "data": {
      "text/plain": [
       "Text(0, 0.5, 'Frequency')"
      ]
     },
     "execution_count": 9,
     "metadata": {},
     "output_type": "execute_result"
    },
    {
     "data": {
      "image/png": "[encoded data removed]",
      "text/plain": [
       "<Figure size 864x432 with 1 Axes>"
      ]
     },
     "metadata": {
      "needs_background": "light"
     },
     "output_type": "display_data"
    }
   ],
   "source": [
    "import numpy as np\n",
    "import matplotlib.pyplot as plt\n",
    "\n",
    "lambda_ = 2\n",
    "poisson_data = np.random.poisson(lam=lambda_, size=1000)\n",
    "\n",
    "plt.figure(figsize=(12, 6))\n",
    "plt.subplot(1, 2, 1)\n",
    "plt.hist(poisson_data, bins=30, alpha=0.7, color='blue')\n",
    "plt.title(\"Poisson Distribution\")\n",
    "plt.xlabel(\"Data points\")\n",
    "plt.ylabel(\"Frequency\")"
   ]
  },
  {
   "cell_type": "code",
   "execution_count": null,
   "id": "28cbfc57",
   "metadata": {},
   "outputs": [],
   "source": []
  }
 ],
 "metadata": {
  "kernelspec": {
   "display_name": "Python 3",
   "language": "python",
   "name": "python3"
  },
  "language_info": {
   "codemirror_mode": {
    "name": "ipython",
    "version": 3
   },
   "file_extension": ".py",
   "mimetype": "text/x-python",
   "name": "python",
   "nbconvert_exporter": "python",
   "pygments_lexer": "ipython3",
   "version": "3.8.8"
  }
 },
 "nbformat": 4,
 "nbformat_minor": 5
}
