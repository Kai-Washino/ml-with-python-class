{
 "cells": [
  {
   "cell_type": "markdown",
   "id": "b916ba51",
   "metadata": {},
   "source": [
    "# 次回の範囲\n",
    "\n",
    "#### 基本\n",
    "\n",
    "\n",
    "#### 推奨\n",
    "\n",
    "#### 挑戦\n"
   ]
  },
  {
   "cell_type": "markdown",
   "id": "be55d33d",
   "metadata": {},
   "source": [
    "# 今回の範囲\n",
    "\n",
    "\n",
    "#### 基本\n",
    "- タイタニックを解いて鷲野がやったスコア以上にする\n",
    "- https://www.kaggle.com/c/titanic\n",
    "- https://youtu.be/7a7LLD7-0GM  \n",
    "https://github.com/Kai-Washino/kaggle-titanic-day6/blob/main/titanic_day6.ipynb\n",
    "\n",
    "#### 推奨\n",
    "- eコマース製品のカテゴリの予測  \n",
    "https://www.kaggle.com/competitions/tabular-playground-series-jun-2021/\n",
    "\n",
    "\n",
    "#### 挑戦\n",
    "- 住宅価格の予測  \n",
    "https://www.kaggle.com/c/zillow-prize-1/data"
   ]
  },
  {
   "cell_type": "markdown",
   "id": "df60d30e",
   "metadata": {},
   "source": [
    "# 質問"
   ]
  },
  {
   "cell_type": "markdown",
   "id": "0385c9e2",
   "metadata": {},
   "source": [
    "# 問題\n",
    "### 問題1\n",
    "くにちゃんは実験で色々なデータを収集しました．  \n",
    "実験では，被験者5人の700歩分のデータを収集しました．  \n",
    "700歩は100歩 × 7路面です．  \n",
    "データは100歩分のデータが一つのファイルで，合計35ファイルあります．  \n",
    "\n",
    "- くにちゃんはどのような前処理をしたでしょうか？\n",
    "- くにちゃんはどのような学習をしたでしょうか？\n",
    "- 被験者内5分割検証，被験者間5分割交差検証をしました．どうやってしたでしょう？\n",
    "\n",
    "### 問題2\n",
    "りほちゃんは実験で色々なデータを収集しました．  \n",
    "実験では，パフをもつ力と皮膚へかけた圧力を収集しました．  \n",
    "パフは人差し指と親指と中指でもちます．  \n",
    "パフをあてる場所はおでこ，右頬，左頬です．  \n",
    "- りほちゃんはどのような前処理をしたでしょうか？\n",
    "- りほちゃんはどのような学習をしたでしょうか？\n",
    "- りほちゃんはどのような検証をしたでしょうか？\n",
    "\n",
    "### 問題3\n",
    "タイタニックの精度をみんなであげよう．"
   ]
  },
  {
   "cell_type": "code",
   "execution_count": null,
   "id": "3ed414f8",
   "metadata": {},
   "outputs": [],
   "source": []
  }
 ],
 "metadata": {
  "kernelspec": {
   "display_name": "Python 3",
   "language": "python",
   "name": "python3"
  },
  "language_info": {
   "codemirror_mode": {
    "name": "ipython",
    "version": 3
   },
   "file_extension": ".py",
   "mimetype": "text/x-python",
   "name": "python",
   "nbconvert_exporter": "python",
   "pygments_lexer": "ipython3",
   "version": "3.8.8"
  }
 },
 "nbformat": 4,
 "nbformat_minor": 5
}
