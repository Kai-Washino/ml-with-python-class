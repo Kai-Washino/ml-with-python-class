{
 "cells": [
  {
   "cell_type": "markdown",
   "id": "8db0297f",
   "metadata": {},
   "source": [
    "# 次回の範囲\n",
    "\n",
    "\n",
    "#### 基本\n",
    "- タイタニックを解いて鷲野がやったスコア以上にする\n",
    "- https://www.kaggle.com/c/titanic\n",
    "- https://youtu.be/7a7LLD7-0GM  \n",
    "https://github.com/Kai-Washino/kaggle-titanic-day6/blob/main/titanic_day6.ipynb\n",
    "\n",
    "#### 推奨\n",
    "- eコマース製品のカテゴリの予測  \n",
    "https://www.kaggle.com/competitions/tabular-playground-series-jun-2021/\n",
    "\n",
    "\n",
    "#### 挑戦\n",
    "- 住宅価格の予測  \n",
    "https://www.kaggle.com/c/zillow-prize-1/data"
   ]
  },
  {
   "cell_type": "markdown",
   "id": "66bd8cbb",
   "metadata": {},
   "source": [
    "# 今回の範囲\n",
    "一旦進むのSTOP\n",
    "\n",
    "#### 基本\n",
    "- 今までの問題を再度解いてくる\n",
    "\n",
    "#### 推奨\n",
    "- day2の基本，day3の基本，day4の基本を読んでくる\n",
    "\n",
    "#### 挑戦\n",
    "- 鷲野がタイタニックやる動画をみて，自分もやってみる  \n",
    "https://youtu.be/7a7LLD7-0GM  \n",
    "https://github.com/Kai-Washino/kaggle-titanic-day6/blob/main/titanic_day6.ipynb"
   ]
  },
  {
   "cell_type": "markdown",
   "id": "c332a597",
   "metadata": {},
   "source": [
    "# 質問"
   ]
  },
  {
   "cell_type": "markdown",
   "id": "f668fb7d",
   "metadata": {},
   "source": [
    "# 問題"
   ]
  },
  {
   "cell_type": "markdown",
   "id": "909cdc60",
   "metadata": {},
   "source": [
    "### 問題1\n",
    "今まで本に出てきた回帰の機械学習モデルを全て答えてください．"
   ]
  },
  {
   "cell_type": "markdown",
   "id": "186e69a0",
   "metadata": {},
   "source": [
    "### 問題2\n",
    "今まで本に出てきた分類の機械学習モデルを全て答えてください．"
   ]
  },
  {
   "cell_type": "markdown",
   "id": "f5f6319c",
   "metadata": {},
   "source": [
    "### 問題3\n",
    "みんなでタイタニックやりましょう．"
   ]
  }
 ],
 "metadata": {
  "kernelspec": {
   "display_name": "Python 3",
   "language": "python",
   "name": "python3"
  },
  "language_info": {
   "codemirror_mode": {
    "name": "ipython",
    "version": 3
   },
   "file_extension": ".py",
   "mimetype": "text/x-python",
   "name": "python",
   "nbconvert_exporter": "python",
   "pygments_lexer": "ipython3",
   "version": "3.8.8"
  }
 },
 "nbformat": 4,
 "nbformat_minor": 5
}
