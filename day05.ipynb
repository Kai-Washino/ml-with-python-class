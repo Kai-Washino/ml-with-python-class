{
 "cells": [
  {
   "cell_type": "markdown",
   "id": "954fb2dc",
   "metadata": {},
   "source": [
    "# 次回の範囲\n",
    "一旦進むのSTOP\n",
    "\n",
    "#### 基本\n",
    "- 今までの問題を再度解いてくる\n",
    "\n",
    "#### 推奨\n",
    "- day2の基本，day3の基本，day4の基本を読んでくる\n",
    "\n",
    "#### 挑戦\n",
    "- 鷲野がタイタニックやる動画をみて，自分もやってみる  \n",
    "https://youtu.be/7a7LLD7-0GM  \n",
    "https://github.com/Kai-Washino/kaggle-titanic-day6/blob/main/titanic_day6.ipynb"
   ]
  },
  {
   "cell_type": "markdown",
   "id": "71aa16f5",
   "metadata": {},
   "source": [
    "# 今回の範囲\n",
    "3章の最後まで\n",
    "\n",
    "#### 基本\n",
    "- 最初のp. 127（PDF141枚目）の3.1を読む\n",
    "- k-meansクラスタリングを実行する（pdf180枚目）\n",
    "\n",
    "#### 推奨\n",
    "- 3章全て読む\n",
    "- 前処理，PCA，凝集型クラスタリング，DBSCANを実行する．\n",
    "\n",
    "#### 挑戦\n",
    "- k-meansでタイタニックを解いてみる．https://www.kaggle.com/c/titanic"
   ]
  },
  {
   "cell_type": "markdown",
   "id": "ab39ca93",
   "metadata": {},
   "source": [
    "# 質問"
   ]
  },
  {
   "cell_type": "markdown",
   "id": "d03a7f6f",
   "metadata": {},
   "source": [
    "# 問題"
   ]
  },
  {
   "cell_type": "markdown",
   "id": "7a11d61a",
   "metadata": {},
   "source": [
    "### 問題1\n",
    "データの前処理（正規化）を行ってください．  \n",
    "具体的には4つ  \n",
    "- StandardScaler\n",
    "- RobustScaler\n",
    "- MinMaxScaler\n",
    "- Normalizer  \n",
    "\n",
    "これらの処理後のデータをみて何が起きてるか理解してください．"
   ]
  },
  {
   "cell_type": "code",
   "execution_count": 1,
   "id": "d1e3fbfb",
   "metadata": {},
   "outputs": [],
   "source": [
    "import numpy as np\n",
    "\n",
    "array = np.random.uniform(-10, 10, size=(100, 1))"
   ]
  },
  {
   "cell_type": "markdown",
   "id": "4e761f86",
   "metadata": {},
   "source": [
    "### 問題2\n",
    "下記データX_noisyにPCAを適用して，縦軸を第1成分，横軸を第2成分として，表示してください．"
   ]
  },
  {
   "cell_type": "code",
   "execution_count": 5,
   "id": "080e6fc9",
   "metadata": {
    "scrolled": true
   },
   "outputs": [
    {
     "data": {
      "image/png": "[encoded data removed]",
      "text/plain": [
       "<Figure size 576x576 with 1 Axes>"
      ]
     },
     "metadata": {
      "needs_background": "light"
     },
     "output_type": "display_data"
    }
   ],
   "source": [
    "import matplotlib.pyplot as plt\n",
    "\n",
    "# 元のデータセット X の作成\n",
    "np.random.seed(0)\n",
    "n_samples = 200\n",
    "mean = [0, 0]\n",
    "cov = [[1, 0.8], [0.8, 1]]  \n",
    "X = np.random.multivariate_normal(mean, cov, n_samples)\n",
    "\n",
    "# ランダムノイズを加える\n",
    "noise_factor = 0.5  # ノイズの大きさを調整するファクター\n",
    "noise = np.random.normal(0, noise_factor, X.shape)\n",
    "X_noisy = X + noise\n",
    "\n",
    "# ノイズを加えたデータセット X_noisy を表示\n",
    "plt.figure(figsize=(8, 8))\n",
    "plt.scatter(X_noisy[:, 0], X_noisy[:, 1], alpha=0.7)\n",
    "plt.title(\"Noisy Data\")\n",
    "plt.xlabel(\"Feature 1\")\n",
    "plt.ylabel(\"Feature 2\")\n",
    "plt.xlim(-4, 4)  \n",
    "plt.ylim(-4, 4)\n",
    "plt.show()"
   ]
  },
  {
   "cell_type": "markdown",
   "id": "c1989183",
   "metadata": {},
   "source": [
    "### 問題3\n",
    "KMeansでクラスタリングしてください．  \n",
    "グループは2つです．"
   ]
  },
  {
   "cell_type": "code",
   "execution_count": 7,
   "id": "021a3178",
   "metadata": {},
   "outputs": [],
   "source": [
    "from sklearn.datasets import make_moons\n",
    "X, y = make_moons(n_samples=200, noise=0.05, random_state=0)"
   ]
  },
  {
   "cell_type": "markdown",
   "id": "ec2b6afe",
   "metadata": {},
   "source": [
    "### 問題4\n",
    "上のmake_moonsをうまくクラスタリングする方法を考えて実装してください．"
   ]
  },
  {
   "cell_type": "code",
   "execution_count": null,
   "id": "1ce01c4e",
   "metadata": {},
   "outputs": [],
   "source": []
  }
 ],
 "metadata": {
  "kernelspec": {
   "display_name": "Python 3",
   "language": "python",
   "name": "python3"
  },
  "language_info": {
   "codemirror_mode": {
    "name": "ipython",
    "version": 3
   },
   "file_extension": ".py",
   "mimetype": "text/x-python",
   "name": "python",
   "nbconvert_exporter": "python",
   "pygments_lexer": "ipython3",
   "version": "3.8.8"
  }
 },
 "nbformat": 4,
 "nbformat_minor": 5
}
