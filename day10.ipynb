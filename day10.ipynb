{
 "cells": [
  {
   "cell_type": "markdown",
   "id": "a3a19ac2",
   "metadata": {},
   "source": [
    "# 今回の範囲\n",
    "\n",
    "#### 基本\n",
    "- 無\n",
    "\n",
    "#### 推奨\n",
    "- PDFの6章全てを読む\n",
    "\n",
    "#### 挑戦\n",
    "- PDFの6章を実際に動かす\n",
    "- PDFの7章を読む"
   ]
  },
  {
   "cell_type": "markdown",
   "id": "066fb12b",
   "metadata": {},
   "source": [
    "# 解説\n",
    "### Pipeline\n",
    "pipelineは機械学習を使うなら使用したほうがいい．  \n",
    "前処理や学習器などをまとめて指定できる．  \n",
    "また指定してグリッドサーチもできる．  \n",
    "\n",
    "### テキストデータ\n",
    "BoWが使われることが多い．  \n",
    "ある単語にidをふり，その単語がでてくる回数をその文章の特徴量とする．  \n",
    "単語の組合せに対してIDをふることで単語同士の関係性も考慮できる．"
   ]
  },
  {
   "cell_type": "markdown",
   "id": "41b8654d",
   "metadata": {},
   "source": [
    "# 復習\n",
    "\n",
    "## 1章\n",
    "- 簡単なPythonの使い方\n",
    "- irisデータとk-NN\n",
    "\n",
    "## 2章\n",
    "- k-NN(分類，回帰)\n",
    "- Rスクエア，RMSE，MAE\n",
    "- 線形回帰\n",
    "- リッジ回帰\n",
    "- Lasso回帰\n",
    "- ナイーブベイズクラス分類\n",
    "- 決定木\n",
    "- Random Forest\n",
    "- 勾配ブースティング回帰木\n",
    "- SVM\n",
    "- ニューラルネットワーク\n",
    "\n",
    "## 3章\n",
    "- 前処理\n",
    "- PCA\n",
    "- NMF\n",
    "- t-SNE\n",
    "- k-means\n",
    "- DBSCAN\n",
    "\n",
    "## 4章\n",
    "- カテゴリ変数\n",
    "- ビニング\n",
    "- 多項式・非線形変換\n",
    "- 特徴量選択\n",
    "\n",
    "\n",
    "## 5章\n",
    "- 交差検証\n",
    "- グリッドサーチ\n",
    "- 混合行列，F値，適合率，再現率, AUC\n",
    "\n",
    "## 6章\n",
    "- Pipeline\n",
    "\n",
    "## 7章\n",
    "- BoW"
   ]
  },
  {
   "cell_type": "markdown",
   "id": "68f9260c",
   "metadata": {},
   "source": [
    "# 質問\n",
    "Q. Pipelineは関数ですか？  \n",
    "A. Pipelineはクラスです．\n",
    "\n",
    "\n",
    "Q. pdf315枚目がわからなかった．  \n",
    "A. グリッドサーチ用にデータを分ける前に正規化をするのは良くないということを説明している．"
   ]
  },
  {
   "cell_type": "markdown",
   "id": "34f1a208",
   "metadata": {},
   "source": [
    "# 問題"
   ]
  },
  {
   "cell_type": "markdown",
   "id": "9b11098a",
   "metadata": {},
   "source": [
    "### 問題1\n",
    "下記Xとyをpipelineを使って学習させて精度を確かめてください．  \n",
    "estimatorはMinMaxScalerとRidge回帰(alpha = 1)で学習させてください．  \n",
    "\n",
    "まずは，Xとyを訓練データとテストデータにわけましょう．"
   ]
  },
  {
   "cell_type": "code",
   "execution_count": 4,
   "id": "6442a3ca",
   "metadata": {},
   "outputs": [],
   "source": [
    "import numpy as np\n",
    "\n",
    "np.random.seed(0)\n",
    "\n",
    "X = np.random.rand(100, 4)\n",
    "y = np.random.rand(100)"
   ]
  },
  {
   "cell_type": "markdown",
   "id": "b9169f9e",
   "metadata": {},
   "source": [
    "### 問題2\n",
    "同じXとyをpipelineを使ってグリッドサーチしてください．  \n",
    "グリッドサーチに使う学習器とハイパーパラメタは以下です．\n",
    "\n",
    "- リッジ回帰，標準化と無し，alpha = 0.1, 1, 10\n",
    "- 線形回帰，標準化と無し\n",
    "- RandomForest，無し，木の数 = 10, 100, 木の深さ = 無し, 10, 20"
   ]
  }
 ],
 "metadata": {
  "kernelspec": {
   "display_name": "Python 3",
   "language": "python",
   "name": "python3"
  },
  "language_info": {
   "codemirror_mode": {
    "name": "ipython",
    "version": 3
   },
   "file_extension": ".py",
   "mimetype": "text/x-python",
   "name": "python",
   "nbconvert_exporter": "python",
   "pygments_lexer": "ipython3",
   "version": "3.8.8"
  }
 },
 "nbformat": 4,
 "nbformat_minor": 5
}
