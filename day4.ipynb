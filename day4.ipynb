{
 "cells": [
  {
   "cell_type": "markdown",
   "id": "5746f86b",
   "metadata": {},
   "source": [
    "# 次回の範囲\n",
    "3章の最後まで\n",
    "\n",
    "#### 基本\n",
    "- 最初のp. 127（PDF141枚目）の3.1を読む\n",
    "- k-meansクラスタリングを実行する（pdf180枚目）\n",
    "\n",
    "#### 推奨\n",
    "- 3章全て読む\n",
    "- 前処理，PCA，凝集型クラスタリング，DBSCANを実行する．\n",
    "\n",
    "#### 挑戦\n",
    "- k-meansでタイタニックを解いてみる．https://www.kaggle.com/c/titanic"
   ]
  },
  {
   "cell_type": "markdown",
   "id": "caaa0940",
   "metadata": {},
   "source": [
    "# 今回の範囲\n",
    "2章の最後まで\n",
    "\n",
    "#### 基本\n",
    "- 2.3.6.1(PDF96枚目)のランダムフォレストを読む(PDF101枚目まで)．\n",
    "- ランダムフォレストを実行する（PDF99枚目）．\n",
    "- まとめと展望を読む（PDF138 - 140）．\n",
    "\n",
    "#### 推奨\n",
    "- 全て読む(PDF140枚目まで)．ニューラルネットワークは読まなくてもいいかも．\n",
    "- ランダムフォレスト，勾配ブースティング回帰木，SVMを実行する．\n",
    "\n",
    "#### 挑戦\n",
    "- タイタニックやってみる https://www.kaggle.com/c/titanic"
   ]
  },
  {
   "cell_type": "markdown",
   "id": "b585c6ed",
   "metadata": {},
   "source": [
    "# 質問"
   ]
  },
  {
   "cell_type": "markdown",
   "id": "bb2456c7",
   "metadata": {},
   "source": [
    "# 問題"
   ]
  },
  {
   "cell_type": "markdown",
   "id": "bd0e94f8",
   "metadata": {},
   "source": [
    "### 復習問題1\n",
    "成績dictが与えられています．  \n",
    "その成績dictから平均点を算出する関数を作ってください．\n",
    "関数は以下2つ\n",
    "- subject_average\n",
    "- total_average\n",
    "\n",
    "subject_averageは全生徒の各科目の平均点を辞書形式で返す関数  \n",
    "total_averageは全生徒の全科目の平均点をfloatで返す関数  "
   ]
  },
  {
   "cell_type": "code",
   "execution_count": 10,
   "id": "e6fca814",
   "metadata": {},
   "outputs": [],
   "source": [
    "grades = [\n",
    "    {\"math\": 90, \"science\": 92, \"english\": 85},\n",
    "    {\"math\": 85, \"science\": 88, \"english\": 85},\n",
    "    {\"math\": 78, \"science\": 82, \"english\": 80},\n",
    "    {\"math\": 92, \"science\": 90, \"english\": 92}\n",
    "]"
   ]
  },
  {
   "cell_type": "code",
   "execution_count": 11,
   "id": "d27409e1",
   "metadata": {},
   "outputs": [
    {
     "data": {
      "text/plain": [
       "86.58333333333333"
      ]
     },
     "execution_count": 11,
     "metadata": {},
     "output_type": "execute_result"
    }
   ],
   "source": [
    "# subject_averageの戻り値\n",
    "{'math': 86.25, 'science': 88.0, 'english': 85.5}\n",
    "\n",
    "# total_averageの戻り値\n",
    "86.58333333333333"
   ]
  },
  {
   "cell_type": "markdown",
   "id": "ef29e743",
   "metadata": {},
   "source": [
    "### 問題1\n",
    "がくの長さがsepal_lengthで  \n",
    "花びらの長さがpetal_lengthのアヤメがあります．  \n",
    "それらの答えはlabelです．\n",
    "\n",
    "さて，random forestを用いて分類して下さい．"
   ]
  },
  {
   "cell_type": "code",
   "execution_count": 12,
   "id": "025f4246",
   "metadata": {},
   "outputs": [],
   "source": [
    "import numpy as np\n",
    "sepal_length = np.array([5.9, 5.8, 6.8, 4.7, 6.9, 5.0, 5.4, 5.0, 6.5, 6.7, 6.0, 6.7, 5.6, 7.7, 6.3, 5.5, 6.3, 6.3, 4.9, 6.3, 7.0, 6.5, 6.0, 4.8, 5.8, 5.6, 5.6, 5.5, 6.1, 7.2, 5.3, 4.3, 6.4, 5.7, 5.4, 5.7, 6.9, 4.6, 5.9, 5.1, 4.6, 6.2, 7.2, 5.7, 4.8, 7.1, 6.9, 6.5, 6.4, 5.1, 4.8, 6.5, 6.7, 4.5, 6.2, 4.9, 5.7, 6.9, 4.4, 5.0, 7.2, 5.1, 4.4, 5.4, 5.5, 6.8, 7.6, 5.1, 4.9, 5.2, 5.7, 6.6, 5.0, 5.1, 6.4, 5.4, 7.7, 4.9, 7.9, 6.7, 5.2, 6.0, 5.8, 7.7, 5.1, 4.7, 7.4, 5.0, 6.3, 5.7, 5.8, 5.7, 6.4, 6.7, 6.3, 6.7, 5.0, 5.5, 6.7, 5.8, 5.1, 6.6, 5.6, 5.9, 6.3, 5.5, 5.1, 4.9, 6.3, 5.8, 7.7, 4.6])\n",
    "petal_length = np.array([4.2, 4.0, 5.5, 1.3, 5.1, 1.6, 1.5, 3.5, 5.5, 5.7, 5.0, 5.8, 3.9, 6.1, 4.7, 3.8, 4.9, 5.1, 4.5, 5.0, 4.7, 5.2, 4.5, 1.6, 5.1, 4.2, 3.6, 4.0, 4.6, 6.0, 1.5, 1.1, 5.3, 4.2, 1.7, 1.5, 4.9, 1.5, 5.1, 3.0, 1.4, 4.5, 6.1, 4.2, 1.4, 5.9, 5.7, 5.8, 5.6, 1.6, 1.6, 5.1, 5.7, 1.3, 5.4, 1.4, 5.0, 5.4, 1.3, 1.4, 5.8, 1.4, 1.3, 1.7, 4.0, 5.9, 6.6, 1.4, 1.5, 1.4, 4.5, 4.4, 1.2, 1.7, 4.3, 1.5, 6.9, 3.3, 6.4, 4.4, 1.5, 4.8, 1.2, 6.7, 1.5, 1.6, 6.1, 1.4, 5.6, 4.1, 3.9, 3.5, 5.3, 5.2, 4.9, 5.0, 1.6, 3.7, 5.6, 5.1, 1.5, 4.6, 4.1, 4.8, 4.4, 1.3, 1.5, 1.5, 5.6, 4.1, 6.7, 1.4])\n",
    "label = np.array([1, 1, 2, 0, 2, 0, 0, 1, 2, 2, 2, 2, 1, 2, 1, 1, 2, 2, 2, 2, 1, 2, 1, 0, 2, 1, 1, 1, 1, 2, 0, 0, 2, 1, 0, 0, 1, 0, 2, 1, 0, 1, 2, 1, 0, 2, 2, 2, 2, 0, 0, 2, 2, 0, 2, 0, 2, 2, 0, 0, 2, 0, 0, 0, 1, 2, 2, 0, 0, 0, 1, 1, 0, 0, 1, 0, 2, 1, 2, 1, 0, 2, 0, 2, 0, 0, 2, 0, 2, 1, 1, 1, 2, 2, 1, 1, 0, 1, 2, 2, 0, 1, 1, 1, 1, 0, 0, 0, 2, 1, 2, 0])\n",
    "\n",
    "iris_dataset = np.column_stack((sepal_length, petal_length))"
   ]
  },
  {
   "cell_type": "markdown",
   "id": "80d109ef",
   "metadata": {},
   "source": [
    "### 問題2\n",
    "タイタニックみんなでやってみよう"
   ]
  }
 ],
 "metadata": {
  "kernelspec": {
   "display_name": "Python 3",
   "language": "python",
   "name": "python3"
  },
  "language_info": {
   "codemirror_mode": {
    "name": "ipython",
    "version": 3
   },
   "file_extension": ".py",
   "mimetype": "text/x-python",
   "name": "python",
   "nbconvert_exporter": "python",
   "pygments_lexer": "ipython3",
   "version": "3.8.8"
  }
 },
 "nbformat": 4,
 "nbformat_minor": 5
}
