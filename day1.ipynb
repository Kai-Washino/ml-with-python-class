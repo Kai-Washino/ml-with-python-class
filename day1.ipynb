{
 "cells": [
  {
   "cell_type": "markdown",
   "id": "b8ef7497",
   "metadata": {},
   "source": [
    "# 次回の範囲\n",
    "\n",
    "#### 基本\n",
    "- p. 6 (pdf 21枚目) anacondaのインストール\n",
    "- jupyter notebookを使ってみる\n",
    "- Git Hubのコピペでもいいので，1.7.2(p.17, pdf32)以降を実行\n",
    "\n",
    "#### 推奨\n",
    "- 全部ちゃんと読む\n",
    "- 1.7以降を理解しながら実装\n",
    "\n",
    "\n",
    "#### 挑戦\n",
    "- k-NNのkを変えてみる\n",
    "- 違う学習モデルを使ってみる"
   ]
  },
  {
   "cell_type": "markdown",
   "id": "d1f7eac5",
   "metadata": {},
   "source": [
    "# イントロ\n",
    "勉強会の目的  \n",
    "- 研究室全体のレベルの向上と勉強の習慣化\n",
    "\n",
    "これができると，本人後輩先輩先生にとって良い  \n",
    "そして，この本を完全に理解することは目的ではない  \n",
    "レベルが少しでも上がるかつ習慣になればいいな  \n",
    "\n",
    "勉強会の目標\n",
    "- 走り切る人が多い勉強会（7人以上が最後までやり切る勉強会）\n",
    "\n",
    "注意\n",
    "- なぜかpyhon-studyになってたけど，正確にはml-study\n",
    "- 機械学習を勉強する\n",
    "\n",
    "進め方\n",
    "- 事前に勉強をする\n",
    "- 集まって質問をする\n",
    "- 質問に誰かが答える\n",
    "- 問題を鷲野が用意するのでみんなで答える\n",
    "- 次に勉強する範囲を伝える\n",
    "- 次回のスケジュールをたてる\n",
    "\n",
    "範囲\n",
    "- 基本\n",
    "- 推奨\n",
    "- 挑戦"
   ]
  },
  {
   "cell_type": "markdown",
   "id": "02851c2c",
   "metadata": {},
   "source": [
    "# 質問\n",
    "無し"
   ]
  },
  {
   "cell_type": "markdown",
   "id": "952f9f4f",
   "metadata": {},
   "source": [
    "# 解説\n",
    "準備\n",
    "- Python実行できる環境を用意（無い人はブラウザpaiza.io）\n",
    "\n",
    "\n",
    "解説の流れ\n",
    "- Pythonの特徴\n",
    "- print()\n",
    "- list（配列）\n",
    "- if\n",
    "- for文\n",
    "- 関数\n",
    "\n",
    "それぞれ解説終わり次第問題出します～"
   ]
  },
  {
   "cell_type": "markdown",
   "id": "ec1c6caa",
   "metadata": {},
   "source": [
    "## Pythonの特徴\n",
    "#### 構文がシンプル\n",
    "他の言語と比べて読みやすい\n",
    "- {}は使わずにインデントを使用する\n",
    "- 英語に近い形のコード（isで== is notで!= andで&&など）\n",
    "\n",
    "#### ライブラリが豊富\n",
    "- numpyやscipy\n",
    "- pandas\n",
    "- matplotlib\n",
    "- sklearnやtensorflow\n",
    "\n",
    "#### マルチパラダイムプログラミング\n",
    "複数のプログラミングパラダイムをサポート\n",
    "- 手続き型\n",
    "- オブジェクト指向型\n",
    "- 関数型\n",
    "\n",
    "#### インタプリタ言語\n",
    "- コンパイルしなくていい\n",
    "- 上から順にコードが読まれるので注意\n",
    "- スクリプトで書く場合，最後に実行を書くとあまり気にならない\n",
    "\n",
    "#### コミュニティ\n",
    "- 人気なのでググると答えがだいたいある\n",
    "- chatGPTなどはPythonが得意なので親和性が高い"
   ]
  },
  {
   "cell_type": "code",
   "execution_count": 18,
   "id": "d07557af",
   "metadata": {},
   "outputs": [
    {
     "name": "stdout",
     "output_type": "stream",
     "text": [
      "10\n",
      "Apple\n",
      "Orange\n",
      "Banana\n",
      "['Apple', 'Orange', 'Banana']\n"
     ]
    }
   ],
   "source": [
    "# シンプルな構文の例\n",
    "\n",
    "\"\"\"\n",
    "int a = 10;\n",
    "if(a > 0) {\n",
    "    System.out.println(a);\n",
    "}\n",
    "\"\"\"\n",
    "\n",
    "a = 10\n",
    "if a > 0:\n",
    "    print(a)\n",
    "    \n",
    "\"\"\"\n",
    "String[] fruits = {\"Apple\", \"Orange\", null, \"Banana\"};\n",
    "for(int i = 0; i< fruits.length; i++) {\n",
    "    String fruit = fruits[i];\n",
    "    if(fruit != null){\n",
    "        System.out.println(fruit);\n",
    "    }    \n",
    "}\n",
    "\"\"\"\n",
    "\n",
    "fruits = ['Apple', 'Orange', None, 'Banana']\n",
    "for fruit in fruits:\n",
    "    if fruit is not None:\n",
    "        print(fruit)\n",
    "        \n",
    "print([fruit for fruit in fruits if fruit is not None])"
   ]
  },
  {
   "cell_type": "code",
   "execution_count": 19,
   "id": "f9c4ef0f",
   "metadata": {},
   "outputs": [
    {
     "name": "stdout",
     "output_type": "stream",
     "text": [
      "Addition: 8\n",
      "Multiplication: 15\n",
      "Addition: 8\n",
      "Multiplication: 15\n",
      "Addition: 8\n",
      "Multiplication: 15\n"
     ]
    }
   ],
   "source": [
    "# 手続き型プログラミングの例\n",
    "\n",
    "def add(a, b):\n",
    "    return a + b\n",
    "\n",
    "def multiply(a, b):\n",
    "    return a * b\n",
    "\n",
    "result = add(5, 3)\n",
    "print(\"Addition:\", result)\n",
    "\n",
    "result = multiply(5, 3)\n",
    "print(\"Multiplication:\", result)\n",
    "\n",
    "\n",
    "# オブジェクト指向プログラミングの例\n",
    "class Calculator:\n",
    "    def add(self, a, b):\n",
    "        return a + b\n",
    "\n",
    "    def multiply(self, a, b):\n",
    "        return a * b\n",
    "\n",
    "calc = Calculator()\n",
    "print(\"Addition:\", calc.add(5, 3))\n",
    "print(\"Multiplication:\", calc.multiply(5, 3))\n",
    "\n",
    "# 関数型プログラミングの例\n",
    "def add(a, b):\n",
    "    return a + b\n",
    "\n",
    "def multiply(a, b):\n",
    "    return a * b\n",
    "\n",
    "def perform_operation(operation):\n",
    "    def apply_operation(a, b):\n",
    "        return operation(a, b)\n",
    "    return apply_operation\n",
    "\n",
    "add_operation = perform_operation(add)\n",
    "print(\"Addition:\", add_operation(5, 3))\n",
    "\n",
    "multiply_operation = perform_operation(multiply)\n",
    "print(\"Multiplication:\", multiply_operation(5, 3))\n"
   ]
  },
  {
   "cell_type": "markdown",
   "id": "2177dd19",
   "metadata": {},
   "source": [
    "## print()の解説\n",
    "- print()は関数  \n",
    "- print()に文字列や数値をわたすことで画面に表示できる  \n",
    "- 複数の引数をわたすこともできる\n",
    "- 引数`sep`を使える\n",
    "- 引数`end`も使える\n",
    "- 文字列フォーマットがある"
   ]
  },
  {
   "cell_type": "code",
   "execution_count": 26,
   "id": "b827c66e",
   "metadata": {},
   "outputs": [
    {
     "name": "stdout",
     "output_type": "stream",
     "text": [
      "Hello, World!\n",
      "100\n",
      "Hello, World!100\n",
      "The answer is 42\n",
      "The answer is-42\n",
      "Hello, World!  100\n",
      "Alice is 30 years old.\n"
     ]
    }
   ],
   "source": [
    "print(\"Hello, World!\")\n",
    "print(100)\n",
    "\n",
    "hello = \"Hello, World!\"\n",
    "val = str(100)\n",
    "print(hello + val)\n",
    "\n",
    "print(\"The answer is\", 42)\n",
    "\n",
    "print(\"The answer is\", 42, sep=\"-\")\n",
    "\n",
    "print(\"Hello, World!\", end = \"  \")\n",
    "print(100)\n",
    "\n",
    "name = \"Alice\"\n",
    "age = 30\n",
    "print(\"{} is {} years old.\".format(name, age))"
   ]
  },
  {
   "cell_type": "markdown",
   "id": "45bf3221",
   "metadata": {},
   "source": [
    "## print()の問題\n",
    "1. 自分の苗字と自分の名前をそれぞれ変数に格納して，それらを表示してください．\n",
    "2. 表示のレパートリーを増やしてください\n",
    "- 引数1つ\n",
    "- 引数2つ\n",
    "- sepやendを使って\n",
    "- formatを使って"
   ]
  },
  {
   "cell_type": "markdown",
   "id": "784342a9",
   "metadata": {},
   "source": [
    "## list（配列）の解説\n",
    "- 複数の要素を順序付けて格納するデータ構造\n",
    "- 動的配列でサイズが固定されていない\n",
    "- 違う型でも格納できる\n",
    "- 便利なメソッドが沢山ある\n",
    "- Pythonが提供するデフォルトの配列がlist\n",
    "- numpyの提供するndarrayやpandasのDateFrameも配列の一部\n",
    "- ndaraayは行列，DateFremeはExcelっていう認識で多分大丈夫"
   ]
  },
  {
   "cell_type": "code",
   "execution_count": 50,
   "id": "9cd6f57e",
   "metadata": {},
   "outputs": [
    {
     "name": "stdout",
     "output_type": "stream",
     "text": [
      "['Apple', 2, 'Cherry']\n"
     ]
    }
   ],
   "source": [
    "# Pythonのリストの例\n",
    "my_list = [\"Apple\", 2, \"Cherry\"]\n",
    "print(my_list)"
   ]
  },
  {
   "cell_type": "code",
   "execution_count": 51,
   "id": "eefa6f5a",
   "metadata": {},
   "outputs": [
    {
     "name": "stdout",
     "output_type": "stream",
     "text": [
      "Apple\n",
      "2\n"
     ]
    }
   ],
   "source": [
    "print(my_list[0])\n",
    "print(my_list[-2])"
   ]
  },
  {
   "cell_type": "code",
   "execution_count": 52,
   "id": "aa3d2b13",
   "metadata": {},
   "outputs": [
    {
     "name": "stdout",
     "output_type": "stream",
     "text": [
      "['Apple', 2, 'Cherry', 'Banana']\n"
     ]
    }
   ],
   "source": [
    "my_list.append(\"Banana\")\n",
    "print(my_list)"
   ]
  },
  {
   "cell_type": "code",
   "execution_count": 53,
   "id": "ec1ea9c1",
   "metadata": {},
   "outputs": [
    {
     "name": "stdout",
     "output_type": "stream",
     "text": [
      "['Apple', 'new item', 2, 'Cherry', 'Banana']\n"
     ]
    }
   ],
   "source": [
    "my_list.insert(1, \"new item\")\n",
    "print(my_list)"
   ]
  },
  {
   "cell_type": "code",
   "execution_count": 54,
   "id": "f827b29a",
   "metadata": {},
   "outputs": [
    {
     "name": "stdout",
     "output_type": "stream",
     "text": [
      "['Apple', 'new item', 2, 'Banana']\n"
     ]
    }
   ],
   "source": [
    "my_list.remove(\"Cherry\")\n",
    "print(my_list)"
   ]
  },
  {
   "cell_type": "code",
   "execution_count": 55,
   "id": "04b3550a",
   "metadata": {},
   "outputs": [
    {
     "name": "stdout",
     "output_type": "stream",
     "text": [
      "['Apple', 'new item', 'Banana']\n"
     ]
    }
   ],
   "source": [
    "my_list.pop(2)\n",
    "print(my_list)"
   ]
  },
  {
   "cell_type": "code",
   "execution_count": 56,
   "id": "aced6014",
   "metadata": {},
   "outputs": [
    {
     "name": "stdout",
     "output_type": "stream",
     "text": [
      "[1, 2, 3, 4, 5, 6]\n"
     ]
    }
   ],
   "source": [
    "list1 = [1, 2, 3]\n",
    "list2 = [4, 5, 6]\n",
    "comb_list = list1 + list2\n",
    "print(list_comb)\n"
   ]
  },
  {
   "cell_type": "code",
   "execution_count": 61,
   "id": "8e0ca692",
   "metadata": {},
   "outputs": [
    {
     "name": "stdout",
     "output_type": "stream",
     "text": [
      "[5 7 9]\n",
      "[(1, 4), (2, 5), (3, 6)]\n",
      "[5, 7, 9]\n"
     ]
    }
   ],
   "source": [
    "import numpy as np\n",
    "array1 = np.array([1, 2, 3])\n",
    "array2 = np.array([4, 5, 6])\n",
    "print(array1 + array2)\n",
    "\n",
    "print(list(zip(list1, list2)))\n",
    "sum_list = [x + y for x, y in zip(list1, list2)]\n",
    "print(sum_list)"
   ]
  },
  {
   "cell_type": "code",
   "execution_count": 59,
   "id": "e028faa3",
   "metadata": {},
   "outputs": [
    {
     "name": "stdout",
     "output_type": "stream",
     "text": [
      "[1, 2, 3, 4, 5, 6]\n"
     ]
    }
   ],
   "source": [
    "list1.extend(list2)\n",
    "print(list1)"
   ]
  },
  {
   "cell_type": "code",
   "execution_count": 60,
   "id": "b78d75c7",
   "metadata": {},
   "outputs": [
    {
     "name": "stdout",
     "output_type": "stream",
     "text": [
      "[1, 2, 3]\n",
      "[4, 5, 6]\n"
     ]
    }
   ],
   "source": [
    "slice_list = list1[:3]\n",
    "print(slice_list)\n",
    "\n",
    "slice_list = list1[3:]\n",
    "print(slice_list)"
   ]
  },
  {
   "cell_type": "markdown",
   "id": "ca4d9677",
   "metadata": {},
   "source": [
    "## listの問題\n",
    "1. ライオン，ゴリラ，カバ，馬，きっしーというリストを作って前から1番目と，後ろから3番目の要素をprintしてください.\n",
    "2. animalというlistにライオンから馬までの4要素を格納してください．\n",
    "3. 肉，バナナ，キャベツ，人参，女というリストをつくって，ライオンは肉が好きです ゴリラはバナナが好きです... とprintさせてください． \n",
    "4. NumPyやpandasを使ってみてください．"
   ]
  },
  {
   "cell_type": "markdown",
   "id": "39f8f6fd",
   "metadata": {},
   "source": [
    "## if文の解説\n",
    "- if文は条件に基づいて実行フローを変更する制御フロー構造\n",
    "- if 条件式:という構造で書かれる\n",
    "- 条件式は真偽値（True or False）\n",
    "- elseやelifも一緒に使われる"
   ]
  },
  {
   "cell_type": "code",
   "execution_count": 65,
   "id": "75a69e85",
   "metadata": {},
   "outputs": [
    {
     "name": "stdout",
     "output_type": "stream",
     "text": [
      "xは5より大きいけどyは違う\n"
     ]
    }
   ],
   "source": [
    "x = 10\n",
    "y = 5\n",
    "if x > 5:\n",
    "    if y > 5:\n",
    "        print(\"xとyは5より大きい\")\n",
    "    else:\n",
    "        print(\"xは5より大きいけどyは違う\")\n",
    "elif x > 0 and x <= 5:\n",
    "    print(\"xは5以下の正の数\")\n",
    "else:\n",
    "    print(\"xは0以下\")"
   ]
  },
  {
   "cell_type": "markdown",
   "id": "1a6095f2",
   "metadata": {},
   "source": [
    "## for文\n",
    "- for文はシーケンスを反復処理する制御フロー構造\n",
    "- シーケンスにはリスト，タプル，辞書，セット，文字列などがある\n",
    "- `for 変数 in シーケンス`が基本構造\n",
    "- シーケンスの各要素が変数に格納されていく\n",
    "- `range()`関数をよく使う\n",
    "- ネストもできる\n",
    "- リスト内包表記を使うことで短く記述できる"
   ]
  },
  {
   "cell_type": "code",
   "execution_count": 66,
   "id": "ebb9c02c",
   "metadata": {},
   "outputs": [
    {
     "name": "stdout",
     "output_type": "stream",
     "text": [
      "Apple\n",
      "Orange\n",
      "Banana\n"
     ]
    }
   ],
   "source": [
    "fruits = ['Apple', 'Orange', None, 'Banana']\n",
    "for fruit in fruits:\n",
    "    if fruit is not None:\n",
    "        print(fruit)"
   ]
  },
  {
   "cell_type": "code",
   "execution_count": 74,
   "id": "e98d5317",
   "metadata": {},
   "outputs": [
    {
     "name": "stdout",
     "output_type": "stream",
     "text": [
      "name\n",
      "age\n",
      "柴田\n",
      "24\n",
      "name 鷲野\n",
      "age 27\n"
     ]
    }
   ],
   "source": [
    "shibata_dict = {\"name\": \"柴田\", \"age\": 24}\n",
    "washino_dict = {\"name\": \"鷲野\", \"age\": 27}\n",
    "for key in shibata_dict:\n",
    "    print(key)\n",
    "\n",
    "for value in shibata_dict.values():\n",
    "    print(value)\n",
    "\n",
    "for key, value in washino_dict.items():\n",
    "    print(key, value)"
   ]
  },
  {
   "cell_type": "code",
   "execution_count": 85,
   "id": "90048824",
   "metadata": {},
   "outputs": [
    {
     "name": "stdout",
     "output_type": "stream",
     "text": [
      "<class 'range'>\n",
      "0 1 2 3 4 "
     ]
    }
   ],
   "source": [
    "for i in range(5):\n",
    "    print(i, end = \" \")"
   ]
  },
  {
   "cell_type": "code",
   "execution_count": 77,
   "id": "8ff31079",
   "metadata": {},
   "outputs": [
    {
     "name": "stdout",
     "output_type": "stream",
     "text": [
      "1 2 3 4 5 2 4 6 8 10 3 6 9 12 15 4 8 12 16 20 5 10 15 20 25 "
     ]
    }
   ],
   "source": [
    "list_x = [1, 2, 3, 4, 5]\n",
    "list_y = [1, 2, 3, 4, 5]\n",
    "\n",
    "for x in list_x:\n",
    "    for y in list_y:\n",
    "        print(x * y, end = \" \")"
   ]
  },
  {
   "cell_type": "code",
   "execution_count": 82,
   "id": "2025079f",
   "metadata": {},
   "outputs": [
    {
     "name": "stdout",
     "output_type": "stream",
     "text": [
      "[1, 4, 9, 16, 25]\n",
      "[1, 2, 3, 4, 5, 2, 4, 6, 8, 10, 3, 6, 9, 12, 15, 4, 8, 12, 16, 20, 5, 10, 15, 20, 25]\n"
     ]
    }
   ],
   "source": [
    "squared = [x **2 for x in list_x]\n",
    "print(squared)\n",
    "\n",
    "multi_list = [x * y for x in list_x for y in list_y]\n",
    "print(multi_list)"
   ]
  },
  {
   "cell_type": "markdown",
   "id": "b6398424",
   "metadata": {},
   "source": [
    "## if文とfor文の問題\n",
    "1. 先ほど作ったライオン, ...，きっしーのlistの要素をfor文でprintしてください．\n",
    "2. for文でライオンは肉が好きです…をprintしてください．\n",
    "3. きっしーの場合だけ女が大好きですにしてください，\n",
    "4. リスト内包表記をつかってみてください"
   ]
  },
  {
   "cell_type": "code",
   "execution_count": 2,
   "id": "e48cbbb4",
   "metadata": {},
   "outputs": [
    {
     "ename": "SyntaxError",
     "evalue": "Generator expression must be parenthesized (<ipython-input-2-24304eb2a485>, line 3)",
     "output_type": "error",
     "traceback": [
      "\u001b[1;36m  File \u001b[1;32m\"<ipython-input-2-24304eb2a485>\"\u001b[1;36m, line \u001b[1;32m3\u001b[0m\n\u001b[1;33m    print(\"{}は{}が好きです．\".format(animal, fav for animal in animals for fav in favs))\u001b[0m\n\u001b[1;37m                                                     ^\u001b[0m\n\u001b[1;31mSyntaxError\u001b[0m\u001b[1;31m:\u001b[0m Generator expression must be parenthesized\n"
     ]
    }
   ],
   "source": [
    "animals = [1, 2, 3, 4, 5]\n",
    "favs = [6, 7, 8, 9, 10]\n",
    "print(\"{}は{}が好きです．\".format(animal, fav for animal in animals for fav in favs))"
   ]
  },
  {
   "cell_type": "markdown",
   "id": "75695344",
   "metadata": {},
   "source": [
    "## 簡単な関数\n",
    "- 関数は何度も使う機能をモジュール化して再利用する機能\n",
    "- 基本構造は\n",
    "  ```\n",
    "  def 関数名(引数): \n",
    "      return 戻り値\n",
    "  ```\n",
    "- 関数名は関数を呼び出す際に使用する（例：足し算）\n",
    "- 引数は関数に渡す値で0個以上指定できる（1 + 2の1と2のこと）\n",
    "- 戻り値（返り値）は呼び出し元に返す値（3のこと）\n",
    "- 引数はデフォルト値を設定できる\n",
    "- 戻り値は複数設定できる\n",
    "- 可変長引数をもつことができる\n",
    "- ラムダ関数やクロージャやデコレータやジェネレータなどもある"
   ]
  },
  {
   "cell_type": "code",
   "execution_count": 86,
   "id": "c26a9fdc",
   "metadata": {},
   "outputs": [
    {
     "name": "stdout",
     "output_type": "stream",
     "text": [
      "3\n"
     ]
    }
   ],
   "source": [
    "def sum(a, b):\n",
    "    return a + b\n",
    "\n",
    "val = sum(1, 2)\n",
    "print(val)"
   ]
  },
  {
   "cell_type": "code",
   "execution_count": 90,
   "id": "592c0722",
   "metadata": {},
   "outputs": [
    {
     "name": "stdout",
     "output_type": "stream",
     "text": [
      "205で一番カッコいいのはwashinoです\n",
      "205で一番カッコいいのはじーつーです\n"
     ]
    }
   ],
   "source": [
    "def cool_205(name = \"washino\"):\n",
    "    print(\"205で一番カッコいいのは\" + name + \"です\")\n",
    "cool_205()\n",
    "cool_205(\"じーつー\")"
   ]
  },
  {
   "cell_type": "code",
   "execution_count": 94,
   "id": "f2e7ad65",
   "metadata": {},
   "outputs": [
    {
     "name": "stdout",
     "output_type": "stream",
     "text": [
      "(3, 2)\n",
      "3\n",
      "2\n"
     ]
    }
   ],
   "source": [
    "def multipli(a, b):\n",
    "    return a * b\n",
    "\n",
    "def calculate(a, b):\n",
    "    return sum(a, b), multipli(a, b)\n",
    "\n",
    "result = calculate(1, 2)\n",
    "print(result)\n",
    "\n",
    "result1, result2 = calculate(1, 2)\n",
    "print(result1)\n",
    "print(result2)"
   ]
  },
  {
   "cell_type": "code",
   "execution_count": 95,
   "id": "af583b1c",
   "metadata": {},
   "outputs": [
    {
     "name": "stdout",
     "output_type": "stream",
     "text": [
      "10\n"
     ]
    }
   ],
   "source": [
    "def sums(*args):\n",
    "    result = 0\n",
    "    for arg in args:\n",
    "        result = sum(result, arg)\n",
    "    return result\n",
    "print(sums(0, 1, 2, 3, 4))"
   ]
  },
  {
   "cell_type": "markdown",
   "id": "ec8a0555",
   "metadata": {},
   "source": [
    "## 関数の問題\n",
    "1. 2つの引数を割り算する関数を作ってください．\n",
    "2. 割る数が0の時は割らないようにしてください．\n",
    "3. リストを引数にもつ関数を作り，100, 20, 5, 0のリストを5, 2, 0のリストで割ってください（100 / 5, 100 / 2，・・・のように）"
   ]
  },
  {
   "cell_type": "markdown",
   "id": "0bcd1fc4",
   "metadata": {},
   "source": [
    "# 以下に軽く解説\n",
    "ただ難しいものも多いので，頑張らなくていい\n",
    "- タプル\n",
    "- zip関数\n",
    "- 例外処理\n",
    "- スコープ\n",
    "- 内包表記\n",
    "- 三項演算子\n",
    "- map関数\n",
    "- ラムダ関数\n",
    "- クロージャ\n",
    "- デコレータ\n",
    "- ジェネレータ\n",
    "- 型ヒントなどの特殊な記法\n",
    "\n",
    "# 解説できないけど重要なもの\n",
    "- numpyの使い方\n",
    "- pandasの使い方\n",
    "- scipyの使い方\n",
    "- matplotlibの使い方\n",
    "- classの書き方とインスタンス化\n",
    "- モジュール化とインポート\n",
    "- threading\n",
    "- 非同期プログラミング\n",
    "- tensorflow\n",
    "- GUI(tkinterなど)"
   ]
  },
  {
   "cell_type": "code",
   "execution_count": 192,
   "id": "0a1dc56c",
   "metadata": {},
   "outputs": [
    {
     "name": "stdout",
     "output_type": "stream",
     "text": [
      "Hello\n",
      "(1, 'Hello')\n",
      "(1, 'Hello', 3.14, 2, 'World')\n"
     ]
    }
   ],
   "source": [
    "\"\"\"\n",
    "タプル\n",
    "カンマで区切られた値．\n",
    "（）で囲まれる．  \n",
    "内容が変更できない．\n",
    "\n",
    "\"\"\"\n",
    "\n",
    "my_tuple = (1, \"Hello\", 3.14)\n",
    "print(my_tuple[1])\n",
    "print(my_tuple[:2])\n",
    "\n",
    "another_tuple = (2, \"World\")\n",
    "print(my_tuple + another_tuple)"
   ]
  },
  {
   "cell_type": "code",
   "execution_count": 10,
   "id": "18192e0a",
   "metadata": {},
   "outputs": [
    {
     "name": "stdout",
     "output_type": "stream",
     "text": [
      "[(1, 'a'), (2, 'b'), (3, 'c')]\n",
      "Number: 1, Letter: 'a'\n",
      "Number: 2, Letter: 'b'\n",
      "Number: 3, Letter: 'c'\n",
      "[5, 7, 9]\n",
      "[5, 6, 7, 6, 7, 8, 7, 8, 9]\n"
     ]
    }
   ],
   "source": [
    "\"\"\"\n",
    "zip関数\n",
    "複数のイテラブルから要素を集めてイテレータを返す関数\n",
    "要素を並列に処理する．\n",
    "つまり\n",
    "\n",
    "\"\"\"\n",
    "\n",
    "numbers = [1, 2, 3]\n",
    "letters = ['a', 'b', 'c']\n",
    "zipped = zip(numbers, letters)\n",
    "print(list(zipped))\n",
    "\n",
    "\n",
    "for number, letter in zip(numbers, letters):\n",
    "    print(f\"Number: {number}, Letter: '{letter}'\")\n",
    "    \n",
    "numbers1 = [1, 2, 3]\n",
    "numbers2 = [4, 5, 6]\n",
    "\n",
    "sums = [number1 + number2 for number1, number2 in zip(numbers1, numbers2)]\n",
    "print(sums)\n",
    "\n",
    "sums = [number1 + number2 for number1 in numbers1 for number2 in numbers2]\n",
    "print(sums)"
   ]
  },
  {
   "cell_type": "code",
   "execution_count": 100,
   "id": "d595caec",
   "metadata": {},
   "outputs": [
    {
     "name": "stdout",
     "output_type": "stream",
     "text": [
      "5.0\n",
      "0ではわれません\n"
     ]
    }
   ],
   "source": [
    "def division(a, b):\n",
    "    try:        \n",
    "        return (a / b)\n",
    "    except:\n",
    "        return \"0ではわれません\"\n",
    "\n",
    "print(division(10, 2))\n",
    "print(division(10, 0))"
   ]
  },
  {
   "cell_type": "code",
   "execution_count": 196,
   "id": "32174ec7",
   "metadata": {},
   "outputs": [
    {
     "name": "stdout",
     "output_type": "stream",
     "text": [
      "Local x: 1\n",
      "Global x: 10\n"
     ]
    }
   ],
   "source": [
    "x = 10\n",
    "\n",
    "def change_x(): \n",
    "#     xは関数内で代入がなければグローバル変数\n",
    "#     関数内で代入があればローカル変数になる\n",
    "#     print(x)\n",
    "    x = 1  # ローカル変数になる\n",
    "    print(\"Local x:\", x)\n",
    "\n",
    "change_x()\n",
    "print(\"Global x:\", x)\n"
   ]
  },
  {
   "cell_type": "markdown",
   "id": "ed9bdd49",
   "metadata": {},
   "source": [
    "### 内包表記\n",
    "内包表記は4種類ある．\n",
    "- リスト内包表記\n",
    "- セット内包表記\n",
    "- 辞書内包表記\n",
    "- ジェネレータ"
   ]
  },
  {
   "cell_type": "code",
   "execution_count": 183,
   "id": "3373cc1a",
   "metadata": {},
   "outputs": [
    {
     "name": "stdout",
     "output_type": "stream",
     "text": [
      "<class 'list'>\n",
      "[1, 1, 4]\n"
     ]
    }
   ],
   "source": [
    "# リスト内包表記\n",
    "squares = [x**2 for x in [1, 1, 2]]\n",
    "print(type(squares))\n",
    "print(squares)"
   ]
  },
  {
   "cell_type": "code",
   "execution_count": 182,
   "id": "3924e4f1",
   "metadata": {},
   "outputs": [
    {
     "name": "stdout",
     "output_type": "stream",
     "text": [
      "<class 'set'>\n",
      "{1, 4}\n"
     ]
    }
   ],
   "source": [
    "# セット内包表記\n",
    "set_squares = {x**2 for x in [1, 1, 2]}\n",
    "print(type(set_squares))\n",
    "print(set_squares)"
   ]
  },
  {
   "cell_type": "code",
   "execution_count": 184,
   "id": "a79b189f",
   "metadata": {},
   "outputs": [
    {
     "name": "stdout",
     "output_type": "stream",
     "text": [
      "{0: 0, 1: 1, 2: 4, 3: 9, 4: 16}\n"
     ]
    }
   ],
   "source": [
    "# 辞書内包表記\n",
    "dic = {i: i**2 for i in range(5)}\n",
    "print(dic)"
   ]
  },
  {
   "cell_type": "code",
   "execution_count": 188,
   "id": "40149461",
   "metadata": {},
   "outputs": [
    {
     "name": "stdout",
     "output_type": "stream",
     "text": [
      "<class 'generator'>\n",
      "<generator object <genexpr> at 0x000002A267E572E0>\n",
      "1 1 4 "
     ]
    }
   ],
   "source": [
    "# ジェネレータ\n",
    "gen = (x**2 for x in [1, 1, 2])\n",
    "print(type(gen))\n",
    "print(gen)\n",
    "for value in gen:\n",
    "    print(value, end = \" \")"
   ]
  },
  {
   "cell_type": "markdown",
   "id": "d0a7c26d",
   "metadata": {},
   "source": [
    "#### 三項演算子  (条件演算子)\n",
    "1文で条件式とその条件に沿った値を表現できる．  \n",
    "`Trueの値 if 条件式 else Falseの値`が基本の形    \n",
    "`(Trueの値, Falseの値)[条件式]`でもできる．  \n",
    "\n",
    "他の言語だと  \n",
    "`条件式 ? Trueの値 : Falseの値`で書くことが多いイメージ．"
   ]
  },
  {
   "cell_type": "code",
   "execution_count": 189,
   "id": "e5397a1e",
   "metadata": {},
   "outputs": [
    {
     "name": "stdout",
     "output_type": "stream",
     "text": [
      "10\n",
      "10\n"
     ]
    }
   ],
   "source": [
    "n = 7\n",
    "\n",
    "m = 5 + (-5 if n < 0 else 5)\n",
    "print(m)\n",
    "\n",
    "m = 5 + (5, -5)[n < 0]\n",
    "print(m)"
   ]
  },
  {
   "cell_type": "markdown",
   "id": "dd4463c4",
   "metadata": {},
   "source": [
    "#### map関数  \n",
    "第一引数に関数，第2引数にイテラブル（listなど）をとる  \n",
    "戻り値はイテラブルの各要素に関数を適用した結果  \n",
    "\n",
    "#### ラムダ式\n",
    "`lambda 引数: 戻り値`という形の無名関数  \n",
    "\n",
    "JavaScriptでよく使われているイメージ  \n",
    "JSでは，`function (引数) {}`で書かれることもあるが  \n",
    "`(引数) => {return 戻り値}`という形が多いイメージ  \n",
    "アロー関数と呼ばれる"
   ]
  },
  {
   "cell_type": "code",
   "execution_count": 121,
   "id": "a2e13f0f",
   "metadata": {},
   "outputs": [
    {
     "name": "stdout",
     "output_type": "stream",
     "text": [
      "[2, 4, 6, 8]\n"
     ]
    }
   ],
   "source": [
    "# リストの各要素を2倍にする\n",
    "numbers = [1, 2, 3, 4]\n",
    "doubled = list(map(lambda x: x * 2, numbers))\n",
    "print(doubled)"
   ]
  },
  {
   "cell_type": "markdown",
   "id": "be0357c3",
   "metadata": {},
   "source": [
    "#### クロージャ\n",
    "他の関数によって動的に生成される関数  \n",
    "生成元の関数の変数を記憶する．  \n",
    "ローカル変数を外部からアクセスできるのが便利（らしい）  \n",
    "カプセル化に似てるけど使いこなすの難しそうすぎ  \n",
    "関数型プログラミングに使うらしいのでわからないのしょうがないかも  "
   ]
  },
  {
   "cell_type": "code",
   "execution_count": 125,
   "id": "05511852",
   "metadata": {},
   "outputs": [
    {
     "name": "stdout",
     "output_type": "stream",
     "text": [
      "15\n"
     ]
    }
   ],
   "source": [
    "def outer_func(x):\n",
    "    def inner_func(y):\n",
    "        return x + y\n",
    "    return inner_func\n",
    "\n",
    "# クロージャの作成\n",
    "closure = outer_func(10)\n",
    "# クロージャの呼び出し\n",
    "print(closure(5))  # 出力: 15\n"
   ]
  },
  {
   "cell_type": "code",
   "execution_count": 126,
   "id": "9d68bf34",
   "metadata": {},
   "outputs": [
    {
     "name": "stdout",
     "output_type": "stream",
     "text": [
      "1\n",
      "2\n"
     ]
    }
   ],
   "source": [
    "def make_counter():\n",
    "    count = 0\n",
    "    def counter():\n",
    "        nonlocal count\n",
    "        count += 1\n",
    "        return count\n",
    "    return counter\n",
    "\n",
    "counter = make_counter()\n",
    "print(counter())  \n",
    "print(counter())  "
   ]
  },
  {
   "cell_type": "code",
   "execution_count": 127,
   "id": "eedac0b9",
   "metadata": {},
   "outputs": [
    {
     "name": "stdout",
     "output_type": "stream",
     "text": [
      "10\n"
     ]
    }
   ],
   "source": [
    "# ラムダ関数とクロージャ\n",
    "def make_multiplier(x):\n",
    "    return lambda y: x * y\n",
    "\n",
    "double = make_multiplier(2)\n",
    "print(double(5))"
   ]
  },
  {
   "cell_type": "markdown",
   "id": "43619b00",
   "metadata": {},
   "source": [
    "#### デコレータ\n",
    "@を使って関数に新しい機能を適用する．  \n",
    "\n",
    "基本的には  \n",
    "関数を引数にとってその関数に新しい機能を追加する  \n",
    "新しい機能を追加するための関数名を@関数名で追記する  \n",
    "便利な使い方は以下\n",
    "- 実行時間を計測するデコレータ\n",
    "- 関数が実行されたことをログに記録するデコレータ\n",
    "- 特定の条件下でしか関数を実行しないアクセス制御のためのデコレータ\n",
    "- 関数の結果をキャッシュして再計算をさけるデコレータ\n",
    "\n",
    "残りのデコレータに  \n",
    "- @propertyと@property_name.setter\n",
    "- @staticmethodと@classmethod\n",
    "がある．"
   ]
  },
  {
   "cell_type": "code",
   "execution_count": 131,
   "id": "bf37fbe2",
   "metadata": {},
   "outputs": [
    {
     "name": "stdout",
     "output_type": "stream",
     "text": [
      "my_functionは2.011798143386841秒で実行\n",
      "終わった\n"
     ]
    }
   ],
   "source": [
    "import time\n",
    "\n",
    "def timer(func):\n",
    "    def wrapper(*args, **kwargs):\n",
    "        start = time.time()\n",
    "        result = func(*args, **kwargs)\n",
    "        end = time.time()\n",
    "        print(f\"{func.__name__}は{end-start}秒で実行\")\n",
    "        return result\n",
    "    return wrapper\n",
    "\n",
    "@timer\n",
    "def my_function(x):\n",
    "    time.sleep(x)\n",
    "    return (\"終わった\")\n",
    "\n",
    "print(my_function(2))"
   ]
  },
  {
   "cell_type": "code",
   "execution_count": 134,
   "id": "4470999c",
   "metadata": {},
   "outputs": [
    {
     "name": "stdout",
     "output_type": "stream",
     "text": [
      "fibonacciは0.0秒で実行\n",
      "fibonacciは0.0秒で実行\n",
      "fibonacciは0.0009927749633789062秒で実行\n",
      "fibonacciは0.0秒で実行\n",
      "fibonacciは0.0009927749633789062秒で実行\n",
      "fibonacciは0.0秒で実行\n",
      "fibonacciは0.0009927749633789062秒で実行\n",
      "fibonacciは0.0秒で実行\n",
      "fibonacciは0.0009927749633789062秒で実行\n",
      "fibonacciは0.0秒で実行\n",
      "fibonacciは0.0009927749633789062秒で実行\n",
      "fibonacciは0.0秒で実行\n",
      "fibonacciは0.0009927749633789062秒で実行\n",
      "fibonacciは0.0秒で実行\n",
      "fibonacciは0.0019903182983398438秒で実行\n",
      "fibonacciは0.0秒で実行\n",
      "fibonacciは0.0019903182983398438秒で実行\n",
      "fibonacciは0.0秒で実行\n",
      "fibonacciは0.0019903182983398438秒で実行\n",
      "55\n",
      "_fibonacciは0.0秒で実行\n",
      "_fibonacciは0.0秒で実行\n",
      "_fibonacciは0.0秒で実行\n",
      "_fibonacciは0.0秒で実行\n",
      "_fibonacciは0.0秒で実行\n",
      "_fibonacciは0.0秒で実行\n",
      "_fibonacciは0.0秒で実行\n",
      "_fibonacciは0.0秒で実行\n",
      "_fibonacciは0.0秒で実行\n",
      "_fibonacciは0.0秒で実行\n",
      "_fibonacciは0.0秒で実行\n",
      "_fibonacciは0.0秒で実行\n",
      "_fibonacciは0.0秒で実行\n",
      "_fibonacciは0.0秒で実行\n",
      "_fibonacciは0.0秒で実行\n",
      "_fibonacciは0.0秒で実行\n",
      "_fibonacciは0.0秒で実行\n",
      "_fibonacciは0.0秒で実行\n",
      "_fibonacciは0.0秒で実行\n",
      "_fibonacciは0.0秒で実行\n",
      "_fibonacciは0.0秒で実行\n",
      "_fibonacciは0.0秒で実行\n",
      "_fibonacciは0.0秒で実行\n",
      "_fibonacciは0.0秒で実行\n",
      "_fibonacciは0.0秒で実行\n",
      "_fibonacciは0.0秒で実行\n",
      "_fibonacciは0.0秒で実行\n",
      "_fibonacciは0.0009999275207519531秒で実行\n",
      "_fibonacciは0.0秒で実行\n",
      "_fibonacciは0.0009999275207519531秒で実行\n",
      "_fibonacciは0.0秒で実行\n",
      "_fibonacciは0.0秒で実行\n",
      "_fibonacciは0.0秒で実行\n",
      "_fibonacciは0.0009999275207519531秒で実行\n",
      "_fibonacciは0.0秒で実行\n",
      "_fibonacciは0.0秒で実行\n",
      "_fibonacciは0.0秒で実行\n",
      "_fibonacciは0.0秒で実行\n",
      "_fibonacciは0.0秒で実行\n",
      "_fibonacciは0.0009999275207519531秒で実行\n",
      "_fibonacciは0.0009999275207519531秒で実行\n",
      "_fibonacciは0.0秒で実行\n",
      "_fibonacciは0.0秒で実行\n",
      "_fibonacciは0.0秒で実行\n",
      "_fibonacciは0.0秒で実行\n",
      "_fibonacciは0.0秒で実行\n",
      "_fibonacciは0.0秒で実行\n",
      "_fibonacciは0.0秒で実行\n",
      "_fibonacciは0.0秒で実行\n",
      "_fibonacciは0.0秒で実行\n",
      "_fibonacciは0.0秒で実行\n",
      "_fibonacciは0.0秒で実行\n",
      "_fibonacciは0.0秒で実行\n",
      "_fibonacciは0.0秒で実行\n",
      "_fibonacciは0.0秒で実行\n",
      "_fibonacciは0.0秒で実行\n",
      "_fibonacciは0.0秒で実行\n",
      "_fibonacciは0.0秒で実行\n",
      "_fibonacciは0.0秒で実行\n",
      "_fibonacciは0.0秒で実行\n",
      "_fibonacciは0.0秒で実行\n",
      "_fibonacciは0.0秒で実行\n",
      "_fibonacciは0.0秒で実行\n",
      "_fibonacciは0.0秒で実行\n",
      "_fibonacciは0.0秒で実行\n",
      "_fibonacciは0.0秒で実行\n",
      "_fibonacciは0.0009999275207519531秒で実行\n",
      "_fibonacciは0.0秒で実行\n",
      "_fibonacciは0.0秒で実行\n",
      "_fibonacciは0.0021104812622070312秒で実行\n",
      "_fibonacciは0.0秒で実行\n",
      "_fibonacciは0.0021104812622070312秒で実行\n",
      "_fibonacciは0.0秒で実行\n",
      "_fibonacciは0.0秒で実行\n",
      "_fibonacciは0.0秒で実行\n",
      "_fibonacciは0.0021104812622070312秒で実行\n",
      "_fibonacciは0.0秒で実行\n",
      "_fibonacciは0.0秒で実行\n",
      "_fibonacciは0.0秒で実行\n",
      "_fibonacciは0.0秒で実行\n",
      "_fibonacciは0.0秒で実行\n",
      "_fibonacciは0.0021104812622070312秒で実行\n",
      "_fibonacciは0.0秒で実行\n",
      "_fibonacciは0.0秒で実行\n",
      "_fibonacciは0.0秒で実行\n",
      "_fibonacciは0.0秒で実行\n",
      "_fibonacciは0.0008835792541503906秒で実行\n",
      "_fibonacciは0.0秒で実行\n",
      "_fibonacciは0.0秒で実行\n",
      "_fibonacciは0.0秒で実行\n",
      "_fibonacciは0.0008835792541503906秒で実行\n",
      "_fibonacciは0.002994060516357422秒で実行\n",
      "_fibonacciは0.0秒で実行\n",
      "_fibonacciは0.0秒で実行\n",
      "_fibonacciは0.0秒で実行\n",
      "_fibonacciは0.0秒で実行\n",
      "_fibonacciは0.0秒で実行\n",
      "_fibonacciは0.0秒で実行\n",
      "_fibonacciは0.0秒で実行\n",
      "_fibonacciは0.0秒で実行\n",
      "_fibonacciは0.0秒で実行\n",
      "_fibonacciは0.0秒で実行\n",
      "_fibonacciは0.0秒で実行\n",
      "_fibonacciは8.487701416015625e-05秒で実行\n",
      "_fibonacciは0.0秒で実行\n",
      "_fibonacciは8.487701416015625e-05秒で実行\n",
      "_fibonacciは0.0005910396575927734秒で実行\n",
      "_fibonacciは0.0035851001739501953秒で実行\n",
      "_fibonacciは0.0045850276947021484秒で実行\n",
      "_fibonacciは0.0秒で実行\n",
      "_fibonacciは0.0秒で実行\n",
      "_fibonacciは0.0秒で実行\n",
      "_fibonacciは0.0秒で実行\n",
      "_fibonacciは0.0秒で実行\n",
      "_fibonacciは0.0秒で実行\n",
      "_fibonacciは0.0秒で実行\n",
      "_fibonacciは0.0秒で実行\n",
      "_fibonacciは0.0秒で実行\n",
      "_fibonacciは0.0秒で実行\n",
      "_fibonacciは0.0秒で実行\n",
      "_fibonacciは0.0秒で実行\n",
      "_fibonacciは0.0秒で実行\n",
      "_fibonacciは0.0010063648223876953秒で実行\n",
      "_fibonacciは0.0010063648223876953秒で実行\n",
      "_fibonacciは0.0秒で実行\n",
      "_fibonacciは0.0秒で実行\n",
      "_fibonacciは0.0秒で実行\n",
      "_fibonacciは0.0秒で実行\n",
      "_fibonacciは0.0秒で実行\n",
      "_fibonacciは0.0秒で実行\n",
      "_fibonacciは0.0秒で実行\n",
      "_fibonacciは0.0秒で実行\n",
      "_fibonacciは0.0秒で実行\n",
      "_fibonacciは0.0010063648223876953秒で実行\n",
      "_fibonacciは0.0秒で実行\n",
      "_fibonacciは0.0秒で実行\n",
      "_fibonacciは0.0秒で実行\n",
      "_fibonacciは0.0秒で実行\n",
      "_fibonacciは0.0秒で実行\n",
      "_fibonacciは0.0秒で実行\n",
      "_fibonacciは0.0秒で実行\n",
      "_fibonacciは0.0秒で実行\n",
      "_fibonacciは0.0秒で実行\n",
      "_fibonacciは0.0秒で実行\n",
      "_fibonacciは0.0秒で実行\n",
      "_fibonacciは0.0秒で実行\n",
      "_fibonacciは0.0秒で実行\n",
      "_fibonacciは0.0秒で実行\n",
      "_fibonacciは0.0秒で実行\n",
      "_fibonacciは0.0010063648223876953秒で実行\n",
      "_fibonacciは0.0秒で実行\n",
      "_fibonacciは0.0秒で実行\n",
      "_fibonacciは0.0秒で実行\n",
      "_fibonacciは0.0秒で実行\n",
      "_fibonacciは0.0秒で実行\n",
      "_fibonacciは0.0秒で実行\n",
      "_fibonacciは0.0秒で実行\n",
      "_fibonacciは0.001008749008178711秒で実行\n",
      "_fibonacciは0.001008749008178711秒で実行\n",
      "_fibonacciは0.0秒で実行\n",
      "_fibonacciは0.0秒で実行\n",
      "_fibonacciは0.0秒で実行\n",
      "_fibonacciは0.0秒で実行\n",
      "_fibonacciは0.0秒で実行\n",
      "_fibonacciは0.001008749008178711秒で実行\n",
      "_fibonacciは0.0秒で実行\n",
      "_fibonacciは0.0秒で実行\n",
      "_fibonacciは0.0009996891021728516秒で実行\n",
      "_fibonacciは0.0秒で実行\n",
      "_fibonacciは0.0009996891021728516秒で実行\n",
      "_fibonacciは0.0秒で実行\n",
      "_fibonacciは0.0秒で実行\n",
      "_fibonacciは0.0秒で実行\n",
      "_fibonacciは0.0009996891021728516秒で実行\n",
      "_fibonacciは0.0020084381103515625秒で実行\n",
      "_fibonacciは0.003014802932739258秒で実行\n",
      "_fibonacciは0.007599830627441406秒で実行\n",
      "55\n"
     ]
    }
   ],
   "source": [
    "\"\"\"\n",
    "fibonacci(n)を実行すると，fibonacci(2)はめちゃくちゃでてくる．\n",
    "計算の重複を避けるために結果を覚えておく．\n",
    "\"\"\"\n",
    "\n",
    "from functools import lru_cache\n",
    "\n",
    "@timer\n",
    "@lru_cache(maxsize=32)\n",
    "def fibonacci(n):\n",
    "    if n < 2:\n",
    "        return n\n",
    "    return fibonacci(n-1) + fibonacci(n-2)\n",
    "\n",
    "@timer\n",
    "def _fibonacci(n):\n",
    "    if n < 2:\n",
    "        return n\n",
    "    return _fibonacci(n-1) + _fibonacci(n-2)\n",
    "\n",
    "print(fibonacci(10))\n",
    "print(_fibonacci(10))"
   ]
  },
  {
   "cell_type": "markdown",
   "id": "77970253",
   "metadata": {},
   "source": [
    "#### @property\n",
    "@propertyがGetter  \n",
    "@property_name.setterがSetterだと思っていい  \n",
    "class.property_nameだけだとGettereが  \n",
    "class.property_name = hogeだとSetterが呼び出される．"
   ]
  },
  {
   "cell_type": "code",
   "execution_count": 140,
   "id": "b5dac0cf",
   "metadata": {},
   "outputs": [
    {
     "name": "stdout",
     "output_type": "stream",
     "text": [
      "28\n",
      "30\n",
      "負の値はダメです\n"
     ]
    }
   ],
   "source": [
    "class Person:\n",
    "    def __init__(self, age):\n",
    "        self._age = age\n",
    "\n",
    "    @property\n",
    "    def age(self):\n",
    "        return self._age\n",
    "\n",
    "    @age.setter\n",
    "    def age(self, value):\n",
    "        if value < 0:\n",
    "            print(\"負の値はダメです\")\n",
    "        else:\n",
    "            self._age = value\n",
    "\n",
    "person = Person(28)\n",
    "print(person.age)  # Getter\n",
    "person.age = 30    # Setter\n",
    "print(person.age)  \n",
    "person.age = -10"
   ]
  },
  {
   "cell_type": "markdown",
   "id": "e9929cd7",
   "metadata": {},
   "source": [
    "#### ジェネレータ\n",
    "反復可能なオブジェクトの一種\n",
    "ジェネレータを作成する方法は2つ  \n",
    "- yieldを使ったジェネレータ関数（returnの代わりに複数のyield）\n",
    "- 内包表記のような構文\n",
    "\n",
    "例えばcsvファイルを読み込んで，それをデータとして持ったまま1行ずつ処理するより，1行ずつ読み込んで処理するほうがいい．\n",
    "こんなときにジェネレータを使用する"
   ]
  },
  {
   "cell_type": "code",
   "execution_count": 152,
   "id": "a7ce5fa7",
   "metadata": {},
   "outputs": [
    {
     "name": "stdout",
     "output_type": "stream",
     "text": [
      "<class 'generator'>\n",
      "1\n",
      "2\n",
      "3\n"
     ]
    }
   ],
   "source": [
    "def my_generator():\n",
    "    yield 1\n",
    "    yield 2\n",
    "    yield 3\n",
    "\n",
    "gen = my_generator()\n",
    "print(type(gen))\n",
    "for value in gen:\n",
    "    print(value)"
   ]
  },
  {
   "cell_type": "code",
   "execution_count": 155,
   "id": "481ff838",
   "metadata": {},
   "outputs": [
    {
     "name": "stdout",
     "output_type": "stream",
     "text": [
      "0\n",
      "1\n",
      "4\n"
     ]
    }
   ],
   "source": [
    "my_gen = (x * x for x in range(3))\n",
    "\n",
    "for value in my_gen:\n",
    "    #for文が回るたびにmy_genで要素1つずつ生成される．\n",
    "    print(value)"
   ]
  },
  {
   "cell_type": "code",
   "execution_count": 172,
   "id": "1dba5f89",
   "metadata": {},
   "outputs": [
    {
     "name": "stdout",
     "output_type": "stream",
     "text": [
      "6 8 9 6 True True True True True\n"
     ]
    }
   ],
   "source": [
    "\"\"\"\n",
    "all関数\n",
    "要素が全てTrueの場合True\n",
    "1つでもFalseの場合Falseを返す．\n",
    "\n",
    "\"\"\"\n",
    "numbers = [6, 8, 9, 6]\n",
    "\n",
    "gen = (x for x in numbers)\n",
    "for value in gen:\n",
    "    print(value, end = \" \")\n",
    "\n",
    "bool_gen = (x > 5 and x < 10 for x in numbers)    \n",
    "for bool_value in bool_gen:\n",
    "    print(bool_value, end = \" \")\n",
    "\n",
    "print(all(x > 5 and x < 10 for x in numbers))"
   ]
  },
  {
   "cell_type": "markdown",
   "id": "7dba3dc9",
   "metadata": {},
   "source": [
    "### 特殊な記法\n",
    "- 型ヒント\n",
    "- アンパック代入\n",
    "- ウォルラス演算子"
   ]
  },
  {
   "cell_type": "markdown",
   "id": "0a02d024",
   "metadata": {},
   "source": [
    "##### Pythonの型ヒント\n",
    "```\n",
    "def function(val: Any) -> None:\n",
    "```\n",
    "- 引数のvalの型が何でもよい\n",
    "- 戻り値は無い"
   ]
  },
  {
   "cell_type": "markdown",
   "id": "24b22951",
   "metadata": {},
   "source": [
    "##### アンパック代入\n",
    "コレクション（リスト，タプル，辞書）の要素を複数の変数に一度に代入する"
   ]
  },
  {
   "cell_type": "code",
   "execution_count": 199,
   "id": "4da1d522",
   "metadata": {},
   "outputs": [
    {
     "name": "stdout",
     "output_type": "stream",
     "text": [
      "1\n",
      "2\n",
      "3\n"
     ]
    }
   ],
   "source": [
    "numbers = [1, 2, 3]\n",
    "a, b, c = numbers\n",
    "print(a) \n",
    "print(b)  \n",
    "print(c)  "
   ]
  },
  {
   "cell_type": "code",
   "execution_count": 203,
   "id": "eef9f4de",
   "metadata": {},
   "outputs": [
    {
     "name": "stdout",
     "output_type": "stream",
     "text": [
      "1\n",
      "[2, 3, 4]\n",
      "5\n"
     ]
    }
   ],
   "source": [
    "numbers = [1, 2, 3, 4, 5]\n",
    "first, *middle, last= numbers\n",
    "print(first)  \n",
    "print(middle) \n",
    "print(last)"
   ]
  },
  {
   "cell_type": "code",
   "execution_count": 208,
   "id": "f65f436c",
   "metadata": {},
   "outputs": [
    {
     "name": "stdout",
     "output_type": "stream",
     "text": [
      "Hello, Alice. You are 30 years old.\n"
     ]
    }
   ],
   "source": [
    "person_info = {\"name\": \"Alice\", \"age\": 30, \"gender\": \"femail\"}\n",
    "def greet(name, age, gender):\n",
    "    print(f\"Hello, {name}. You are {age} years old.\")\n",
    "\n",
    "greet(**person_info)"
   ]
  },
  {
   "cell_type": "markdown",
   "id": "6d16c508",
   "metadata": {},
   "source": [
    "##### ウォラルス演算子\n",
    "式を評価しながらその結果を変数に代入する．  \n",
    "同じ式を2度評価する必要がない．  \n",
    "`:=` の形"
   ]
  },
  {
   "cell_type": "code",
   "execution_count": 210,
   "id": "f10c452c",
   "metadata": {},
   "outputs": [
    {
     "name": "stdout",
     "output_type": "stream",
     "text": [
      "数値を入力してください: 2\n",
      "入力された数値は10以下です。\n"
     ]
    }
   ],
   "source": [
    "if (n := int(input(\"数値を入力してください: \"))) > 10:\n",
    "    print(\"入力された数値は10より大きいです。\")\n",
    "else:\n",
    "    print(\"入力された数値は10以下です。\")\n"
   ]
  },
  {
   "cell_type": "code",
   "execution_count": null,
   "id": "83a930d8",
   "metadata": {},
   "outputs": [],
   "source": []
  }
 ],
 "metadata": {
  "kernelspec": {
   "display_name": "Python 3",
   "language": "python",
   "name": "python3"
  },
  "language_info": {
   "codemirror_mode": {
    "name": "ipython",
    "version": 3
   },
   "file_extension": ".py",
   "mimetype": "text/x-python",
   "name": "python",
   "nbconvert_exporter": "python",
   "pygments_lexer": "ipython3",
   "version": "3.8.8"
  }
 },
 "nbformat": 4,
 "nbformat_minor": 5
}
